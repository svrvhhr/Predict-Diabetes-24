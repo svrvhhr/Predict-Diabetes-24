{
 "cells": [
  {
   "cell_type": "markdown",
   "metadata": {},
   "source": [
    "# Prédiction du Diabète \n"
   ]
  },
  {
   "cell_type": "markdown",
   "metadata": {},
   "source": [
    "## Description du projet\n",
    "Ce projet vise à prédire la probabilité qu'une personne soit atteinte de diabète en utilisant des dossiers médicaux. Le modèle est entraîné à partir de la base de données des Indiens Pima, qui contient plusieurs indicateurs médicaux tels que le nombre de grossesses, le taux de glucose, la pression artérielle, et d'autres facteurs. L'objectif est de construire un modèle de machine learning capable de classifier efficacement les patients en deux catégories : diabétique ou non-diabétique.\n",
    "\n",
    "## Contexte\n",
    "Le diabète, ou diabète sucré (Diabetes Mellitus - DM), est un groupe de troubles métaboliques caractérisé par un taux élevé de sucre dans le sang sur une longue période. Il existe principalement deux types de diabète :\n",
    "\n",
    "- **Type 1** : Résultant de la destruction des cellules productrices d'insuline dans le pancréas, empêchant ainsi le corps de produire suffisamment d'insuline.\n",
    "- **Type 2** : Associé à une résistance à l'insuline, où les cellules du corps ne répondent pas correctement à cette hormone.\n",
    "\n",
    "La majorité des cas de diabète sont de type 2, représentant environ 90 % des cas. Selon des estimations de 2015, 415 millions de personnes dans le monde étaient atteintes de diabète, soit 8,3 % de la population adulte."
   ]
  },
  {
   "cell_type": "markdown",
   "metadata": {},
   "source": []
  }
 ],
 "metadata": {
  "language_info": {
   "name": "python"
  }
 },
 "nbformat": 4,
 "nbformat_minor": 2
}
